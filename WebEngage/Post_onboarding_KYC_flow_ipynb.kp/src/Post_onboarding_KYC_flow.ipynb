{
 "cells": [
  {
   "cell_type": "raw",
   "metadata": {},
   "source": [
    "---\n",
    "title: Analysis of KYC flow of onboarded users - from submission of KYC Docs to KYC Approval\n",
    "authors:\n",
    "- Kaustub \n",
    "tags:\n",
    "- knowledge\n",
    "- example\n",
    "created_at: 2019-07-08\n",
    "updated_at: 2019-07-08\n",
    "tldr: 32% of onboarded users submit their KYC Docs at least once, 18% of these users get approved, 13% are rejected, and 70% are asked to resubmit, 55% of the users asked to resubmit will resubmit at least once\n",
    "---"
   ]
  },
  {
   "cell_type": "markdown",
   "metadata": {},
   "source": [
    "### Motivation"
   ]
  },
  {
   "cell_type": "markdown",
   "metadata": {},
   "source": [
    "- To set benchmarks for KYC activity of users targeted through WebEngage"
   ]
  },
  {
   "cell_type": "markdown",
   "metadata": {},
   "source": [
    "### 32% of users will submit KYC Docs at least once"
   ]
  },
  {
   "cell_type": "code",
   "execution_count": null,
   "metadata": {
    "scrolled": true
   },
   "outputs": [],
   "source": [
    "import pandas as pd\n",
    "df = pd.read_csv('/Users/kaustub/analytics-knowledge-repo/WebEngage/kyc_flow.csv')\n",
    "df.drop_duplicates(inplace=True)\n",
    "percentiles=[.01,.05,.1,.2,.3,.4,.5,.6,.7,.8,.9,.95,.99]\n",
    "print(\"% Submitted KYC Docs : {:,.1%}\".format(len(df[~(df.kyc_sub_date.isna())])/len(df)))\n"
   ]
  },
  {
   "cell_type": "markdown",
   "metadata": {},
   "source": [
    "### 80% of these users will submit Docs within 3 days of onboarding"
   ]
  },
  {
   "cell_type": "code",
   "execution_count": null,
   "metadata": {},
   "outputs": [],
   "source": [
    "kyc_subs = df[~(df.kyc_sub_date.isna())]\n",
    "print(\"Distribution of days to KYC submission\")\n",
    "#print(\"\")\n",
    "pd.DataFrame(kyc_subs.days_to_kyc_sub.describe(percentiles=percentiles)).style.format('{:,.0f}')"
   ]
  }
 ],
 "metadata": {
  "hide_input": false,
  "kernelspec": {
   "display_name": "Python 3",
   "language": "python",
   "name": "python3"
  },
  "language_info": {
   "codemirror_mode": {
    "name": "ipython",
    "version": 3
   },
   "file_extension": ".py",
   "mimetype": "text/x-python",
   "name": "python",
   "nbconvert_exporter": "python",
   "pygments_lexer": "ipython3",
   "version": "3.6.4"
  }
 },
 "nbformat": 4,
 "nbformat_minor": 1
}